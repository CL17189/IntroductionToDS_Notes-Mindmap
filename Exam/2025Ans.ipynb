{
 "cells": [
  {
   "cell_type": "markdown",
   "id": "b465e0d9",
   "metadata": {
    "deletable": false
   },
   "source": [
    "# Exam 17th of January 2025, 8.00-13.00 for the course 1MS041 (Introduction to Data Science / Introduktion till dataanalys)\n",
    "\n",
    "## Instructions:\n",
    "1. Complete the problems by following instructions.\n",
    "2. When done, submit this file with your solutions saved, following the instruction sheet.\n",
    "\n",
    "This exam has 3 problems for a total of 40 points, to pass you need\n",
    "20 points. The bonus will be added to the score of the exam and rounded afterwards.\n",
    "\n",
    "## Some general hints and information:\n",
    "* Try to answer all questions even if you are uncertain.\n",
    "* Comment your code, so that if you get the wrong answer I can understand how you thought\n",
    "this can give you some points even though the code does not run.\n",
    "* Follow the instruction sheet rigorously.\n",
    "* This exam is partially autograded, but your code and your free text answers are manually graded anonymously.\n",
    "* If there are any questions, please ask the exam guards, they will escalate it to me if necessary.\n",
    "\n",
    "## Tips for free text answers\n",
    "* Be VERY clear with your reasoning, there should be zero ambiguity in what you are referring to.\n",
    "* If you want to include math, you can write LaTeX in the Markdown cells, for instance `$f(x)=x^2$` will be rendered as $f(x)=x^2$ and `$$f(x) = x^2$$` will become an equation line, as follows\n",
    "$$f(x) = x^2$$\n",
    "Another example is `$$f_{Y \\mid X}(y,x) = P(Y = y \\mid X = x) = \\exp(\\alpha \\cdot x + \\beta)$$` which renders as\n",
    "$$f_{Y \\mid X}(y,x) = P(Y = y \\mid X = x) = \\exp(\\alpha \\cdot x + \\beta)$$\n",
    "\n",
    "## Finally some rules:\n",
    "* You may not communicate with others during the exam, for example:\n",
    "    * You cannot ask for help in Stack-Overflow or other such help forums during the Exam.\n",
    "    * You may not communicate with AI's, for instance ChatGPT.\n",
    "    * Your on-line and off-line activity is being monitored according to the examination rules.\n",
    "\n",
    "## Good luck!"
   ]
  },
  {
   "cell_type": "code",
   "execution_count": null,
   "id": "40240477",
   "metadata": {
    "deletable": false
   },
   "outputs": [],
   "source": [
    "# Insert your anonymous exam ID as a string in the variable below\n",
    "examID=\"\"\n"
   ]
  },
  {
   "cell_type": "markdown",
   "id": "a3c67547",
   "metadata": {
    "deletable": false,
    "lx_assignment_number": "vB",
    "lx_assignment_type": "EXAM",
    "lx_assignment_type2print": "Exam",
    "lx_problem_cell_type": "PROBLEM",
    "lx_problem_number": "1",
    "lx_problem_points": "14"
   },
   "source": [
    "---\n",
    "## Exam vB, PROBLEM 1\n",
    "Maximum Points = 14"
   ]
  },
  {
   "cell_type": "markdown",
   "id": "a3ea1654",
   "metadata": {
    "deletable": false,
    "lx_assignment_number": "vB",
    "lx_assignment_type": "EXAM",
    "lx_assignment_type2print": "Exam",
    "lx_problem_cell_type": "PROBLEM",
    "lx_problem_number": "1",
    "lx_problem_points": "14"
   },
   "source": [
    "\n",
    "This problem is about SVD and anomaly detection. In all the problems where you are asked to produce a matrix or vector, they should be **numpy arrays**. \n",
    "\n",
    "1. [4p] Load the file `data/SVD.csv` as instructed in the code cell. Compute the Singular Value Decomposition, i.e. construct the three matrices $U$, $D$, $V$ such that if $X$ is the data matrix of shape `n_samples x n_dimensions` then $X = UDV^T$. Put the resulting matrices in their variables, check that the shapes align with the instructions in the code cell. Finally, extract the first right and left singular vectors and store those as 1-d arrays in the instructed variables.\n",
    "2. [3p] The first goal is to calculate the explained variance, check the lecture notes for definition. Calculate the explained variance of using $1$, $2$,... number of singular vectors and select how many singular vectors are needed in order to explain at least $95\\%$ of the variance.\n",
    "3. [3p] With the number of components chosen in part 2, construct the best approximating matrix with the rank as the number of components. Explain what each row represents in the approximating matrix in terms of the original data, write your answer as free text in the Markdown cell below as instructed in the cells.\n",
    "4. [4p] Create a vector which corresponds to the row-wise (Euclidean) distance between the original matrix `problem1_data`and the approximating matrix `problem1_approximation` and plot the empirical distribution function of that distance. Based on the empirical distribution function choose a threshold such that 10 samples are above it and the rest below. Store the 10 samples in the instructed variable."
   ]
  },
  {
   "cell_type": "code",
   "execution_count": 223,
   "id": "8e494e7b",
   "metadata": {},
   "outputs": [],
   "source": [
    "import pandas as pd\n",
    "import numpy as np\n",
    "from scipy.linalg import eig"
   ]
  },
  {
   "cell_type": "code",
   "execution_count": 224,
   "id": "8ea11d5a",
   "metadata": {
    "deletable": false,
    "lx_assignment_number": "vB",
    "lx_assignment_type": "EXAM",
    "lx_assignment_type2print": "Exam",
    "lx_problem_cell_type": "PROBLEM",
    "lx_problem_number": "1",
    "lx_problem_points": "14"
   },
   "outputs": [],
   "source": [
    "# Part 1: 4 points\n",
    "\n",
    "# Load the data from the file data/SVD.csv and store the data in a numpy array called problem1_data below\n",
    "# Double check that the numbers have been parsed correctly by checking the dtype of the array by calling problem1_data.dtype\n",
    "problem1_data =  pd.read_csv(\"data/SVD.csv\",header=None).to_numpy() # A numpy array of shape n_samples x n_dimensions\n",
    "U,S,Vh=np.linalg.svd(problem1_data, full_matrices=False, compute_uv=True, hermitian=False)# use np.linalg.svd to get a list of left singular vectors,singular values(descending order) ,and a list of right singular vectors. we do not need tanverse beacuse they are not real matrix in form.\n",
    "\n",
    "problem1_U = U # The matrix of left singular vectors of problem1_data with shape n_samples x n_dimensions\n",
    "problem1_D = S # The vector of singular values of problem1_data with shape n_dimensions\n",
    "problem1_V = Vh # The matrix of right singular vectors of problem1_data with shape n_dimensions x n_dimensions\n",
    "\n",
    "problem1_first_right_singular_vector = Vh.T[:, 0] # The first right singular vector of problem1_data with shape (n_dimensions,) hint sometimes one needs to invoke flatten() to avoid having shape (n_dimensions, 1) or (1, n_dimensions)\n",
    "\n",
    "problem1_first_left_singular_vector = U[:, 0]# The first left singular vector of problem1_data with shape (n_samples,) hint sometimes one needs to invoke flatten() to avoid having shape (n_samples, 1) or (1, n_samples)"
   ]
  },
  {
   "cell_type": "code",
   "execution_count": 225,
   "id": "313ffc95",
   "metadata": {},
   "outputs": [],
   "source": [
    "#var equals to the square of singular values for each singular values\n",
    "var_singular=np.power(problem1_D,2)\n",
    "# then we compue accumulated variances and percentage to decide when we stop to estimate\n",
    "var_accumulated=var_singular.cumsum()\n",
    "var_acc_perc=var_accumulated/max(var_accumulated)"
   ]
  },
  {
   "cell_type": "code",
   "execution_count": 226,
   "id": "598b5e94",
   "metadata": {
    "deletable": false,
    "lx_assignment_number": "vB",
    "lx_assignment_type": "EXAM",
    "lx_assignment_type2print": "Exam",
    "lx_problem_cell_type": "PROBLEM",
    "lx_problem_number": "1",
    "lx_problem_points": "14"
   },
   "outputs": [],
   "source": [
    "# Part 2: 3 points\n",
    "\n",
    "# Calculate the explained variance of using 1,2,3,...,n_dimensions singular values and store it as a numpy array called problem1_explained_variance below\n",
    "problem1_explained_variance = var_acc_perc # A numpy array of shape (n_dimensions,), it should be an increasing sequence of positive numbers and the last element should be 1\n",
    "\n",
    "#problem1_num_components = np.argmax(problem1_explained_variance >= 0.95) + 1\n",
    "# Store in the variable below the smallest number of singular values needed to explain at least 95% of the variance\n",
    "problem1_num_components = 10 # An integer"
   ]
  },
  {
   "cell_type": "code",
   "execution_count": 227,
   "id": "b14f0972",
   "metadata": {},
   "outputs": [],
   "source": [
    "# use the theory below to do approximation\n",
    "U_k = problem1_U[:, :problem1_num_components]  # (n_samples, k)\n",
    "S_k = np.diag(problem1_D[:problem1_num_components])  # (k, k)\n",
    "V_k = problem1_V[:problem1_num_components, :]  # (k, n_dimensions)\n",
    "\n",
    "problem1_approximation = U_k @ S_k @ V_k  # (n_samples, n_dimensions)"
   ]
  },
  {
   "cell_type": "code",
   "execution_count": 228,
   "id": "517b319e",
   "metadata": {
    "deletable": false,
    "lx_assignment_number": "vB",
    "lx_assignment_type": "EXAM",
    "lx_assignment_type2print": "Exam",
    "lx_problem_cell_type": "PROBLEM",
    "lx_problem_number": "1",
    "lx_problem_points": "14"
   },
   "outputs": [],
   "source": [
    "# Part 3: 3 points\n",
    "\n",
    "# Calculate the approximating matrix of problem1_data using the first problem1_num_components singular values and store it in the variable below\n",
    "problem1_approximation = problem1_approximation # A numpy array of shape n_samples x n_dimensions"
   ]
  },
  {
   "cell_type": "markdown",
   "id": "86d90bbc",
   "metadata": {
    "deletable": false,
    "lx_assignment_number": "vB",
    "lx_assignment_type": "EXAM",
    "lx_assignment_type2print": "Exam",
    "lx_problem_cell_type": "PROBLEM",
    "lx_problem_number": "1",
    "lx_problem_points": "14"
   },
   "source": [
    "\n",
    "## Free text answer\n",
    "\n",
    "Put the explanation for **part 3** of the rows of the approximating matrix below this line in this cell. In order to enter edit mode you can doubleclick this cell or select it and just press enter.\n",
    "\n",
    "^k\n",
    "\n",
    "**Explanation:** we do SVD decomposition and get :$X=USVh=\\sum_i U_i S_i Vh_i$ if we rewrite it in the sum of rank1 matrix.\n",
    "Thus,if singular values are ordered descendingly from s1...sn and we have decided top k singular values and vectors to cover a specific variance, we will have the approximation with rank k in the form of $X\\approx\\sum_i^k U_i S_i Vh_i$"
   ]
  },
  {
   "cell_type": "code",
   "execution_count": 229,
   "id": "3b3c6c22",
   "metadata": {},
   "outputs": [],
   "source": [
    "#using Euclidean distance, a.k.a l2 norm distance to compute error for each row and store them to a tempory list\n",
    "l2_error = np.linalg.norm(problem1_data - problem1_approximation, axis=1)\n"
   ]
  },
  {
   "cell_type": "code",
   "execution_count": 230,
   "id": "c3ae2296",
   "metadata": {
    "deletable": false,
    "lx_assignment_number": "vB",
    "lx_assignment_type": "EXAM",
    "lx_assignment_type2print": "Exam",
    "lx_problem_cell_type": "PROBLEM",
    "lx_problem_number": "1",
    "lx_problem_points": "14"
   },
   "outputs": [
    {
     "data": {
      "image/png": "[encoded data removed]",
      "text/plain": [
       "<Figure size 640x480 with 1 Axes>"
      ]
     },
     "metadata": {},
     "output_type": "display_data"
    }
   ],
   "source": [
    "# Part 4: 4 points\n",
    "\n",
    "# Calculate the reconstruction error of problem1_data using problem1_approximation and store it in the variable below (should have shape (n_samples,)) (row wise Euclidean distance)\n",
    "problem1_reconstruction_error = np.array(l2_error)\n",
    "\n",
    "# Put the code below to plot the empirical distribution function of the reconstruction error\n",
    "# XXX\n",
    "# XXX\n",
    "# XXX\n",
    "\n",
    "#using functions from utils to draw EDF\n",
    "from Utils import plotEDF,makeEDF\n",
    "plotEDF(makeEDF(problem1_reconstruction_error),  force_display=True,points_at_jump=True, confidence_band=False, alpha=0.95,color='blue',title=\"Empirical Distribution Function\")\n",
    "\n",
    "# select top 10 error and get their index\n",
    "top_10_error_index= np.argsort(problem1_reconstruction_error)[::-1][0:10]\n",
    "\n",
    "# Store the value of the selected threshold in the variable below\n",
    "threshold = np.partition(rowwise_distance, -10)[-10]\n",
    "\n",
    "\n",
    "# Finally store the samples of problem1_data that have a reconstruction error larger than problem1_threshold in the variable below, should have shape (10, n_dimensions)\n",
    "problem1_outliers = problem1_data[rowwise_distance > threshold]\n",
    "\n"
   ]
  },
  {
   "cell_type": "markdown",
   "id": "ff4d0d75",
   "metadata": {
    "deletable": false,
    "lx_assignment_number": "vB",
    "lx_assignment_type": "EXAM",
    "lx_assignment_type2print": "Exam",
    "lx_problem_cell_type": "PROBLEM",
    "lx_problem_number": "2",
    "lx_problem_points": "14"
   },
   "source": [
    "---\n",
    "## Exam vB, PROBLEM 2\n",
    "Maximum Points = 14"
   ]
  },
  {
   "cell_type": "markdown",
   "id": "c3b664ad",
   "metadata": {
    "deletable": false,
    "lx_assignment_number": "vB",
    "lx_assignment_type": "EXAM",
    "lx_assignment_type2print": "Exam",
    "lx_problem_cell_type": "PROBLEM",
    "lx_problem_number": "2",
    "lx_problem_points": "14"
   },
   "source": [
    "\n",
    "In this problem we have data consisting of user behavior on a website. The pages of the website are just numbers in the dataset $0,1,2,\\ldots$ and each row consists of a user, a source and a destination page. This signifies that the user was on the source page and clicked a link leading them to the destination page. The goal is to improve the user experience by decreasing load time of the next page visited, as such we need a good estimate for the next site likely to be visited. We will model this using a homogeneous Markov chain, each row in the data-file then corresponds to a single realization of a transition. \n",
    "\n",
    "1. [3p] Load the data in the file `data/websites.csv` and construct a matrix of size `n_pages x n_pages` which is the maximum likelihood estimate of the true transition matrix for the Markov chain. Here the ordering of the states are exactly the ones in the data-file, that is page $0$ has index $0$ in the matrix.\n",
    "2. [4p] A page loads in $\\text{Exp}(1)$ (Exponentially distributed with mean $1$) seconds if not preloaded and loads with $\\text{Exp}(10)$ (Exponentially distributed with mean $1/10$) seconds if preloaded and we only preload the most likely next site. Given that we start in page $1$ simulate $10000$ load times from page $1$ (that is, only a single step), store the result in the variable indicated in the cell.\n",
    "Repeat the experiment but this time preload the two most likely pages and store the result in the indicated variable.\n",
    "3. [3p] Compare the average (empirical) load time from part 2 with the theoretical one of no pre-loading. Does the load time improve, how did you come to this conclusion? (Explain in the free text field).\n",
    "4. [4p] Calculate the stationary distribution of the Markov chain and calculate the expected load time with respect to it. "
   ]
  },
  {
   "cell_type": "code",
   "execution_count": 231,
   "id": "2da3e0dc",
   "metadata": {},
   "outputs": [
    {
     "name": "stdout",
     "output_type": "stream",
     "text": [
      "     user  source  destination\n",
      "0       0       0            7\n",
      "1       0       7            1\n",
      "2       0       1            8\n",
      "3       0       8            9\n",
      "4       0       9            1\n",
      "..    ...     ...          ...\n",
      "994    99       6            1\n",
      "995    99       1            8\n",
      "996    99       8            0\n",
      "997    99       0            9\n",
      "998    99       9            5\n",
      "\n",
      "[999 rows x 3 columns]\n"
     ]
    }
   ],
   "source": [
    "prob2_data=pd.read_csv(\"data/websites.csv\")\n",
    "print(prob2_data)"
   ]
  },
  {
   "cell_type": "code",
   "execution_count": 232,
   "id": "129bfe38",
   "metadata": {},
   "outputs": [],
   "source": [
    "#we can get the number of pages from both sources and destinations and finally we will choose the bigger one\n",
    "pages=max(max(prob2_data[\"source\"]),max(prob2_data[\"destination\"]))+1\n",
    "#how many lines (data) we have\n",
    "lines=prob2_data.shape[0]\n",
    "#a matrix to restore frequency\n",
    "transition=np.zeros((pages,pages))\n",
    "for i in range(lines):\n",
    "    source_i=prob2_data.iloc[i][\"source\"]\n",
    "    dest_i=prob2_data.iloc[i][\"destination\"]\n",
    "    transition[source_i][dest_i]+=1\n",
    "    \n",
    "#make transition matrix by devide by the sum of each row to make it a real transition matrix\n",
    "transition_mat=np.array([row/sum(row) for row in transition])\n"
   ]
  },
  {
   "cell_type": "code",
   "execution_count": 233,
   "id": "521439a9",
   "metadata": {
    "deletable": false,
    "lx_assignment_number": "vB",
    "lx_assignment_type": "EXAM",
    "lx_assignment_type2print": "Exam",
    "lx_problem_cell_type": "PROBLEM",
    "lx_problem_number": "2",
    "lx_problem_points": "14"
   },
   "outputs": [],
   "source": [
    "# Part 1: 3 points\n",
    "\n",
    "# Load the data from the file data/websites.csv and estimate the transition matrix of the Markov chain\n",
    "# Store the estimated transition matrix in the variable problem2_transition_matrix below\n",
    "problem2_transition_matrix = transition_mat # A numpy array of shape (problem2_n_states, problem2_n_states)\n",
    "# Store the number of states in the variable problem2_n_states below\n",
    "problem2_n_states = pages # An integer\n",
    "#literally, it is 10"
   ]
  },
  {
   "cell_type": "code",
   "execution_count": 234,
   "id": "afd61867",
   "metadata": {},
   "outputs": [],
   "source": [
    "#Here we got the top 2 pages where people are more likely to visit when they are now in page 1\n",
    "index_rank= np.argsort(problem2_transition_matrix[1])[::-1]\n",
    "top1_likely_page= index_rank[0]\n",
    "top2_likely_page=(index_rank[0],index_rank[1])"
   ]
  },
  {
   "cell_type": "code",
   "execution_count": 235,
   "id": "4f6db405",
   "metadata": {},
   "outputs": [],
   "source": [
    "#here we run the experiment. For 10e3 people, we first let them to choose which page they are goin to vissit next with the second line of \n",
    "#transition matrix then we simulate the waiting time. There are two situations.\n",
    "experiment_1=[]\n",
    "experiment_2=[]\n",
    "for i in range(10000):\n",
    "    next_page=np.random.choice(np.arange(0, 10), p=problem2_transition_matrix[1])\n",
    "    load_time1=np.random.exponential(1/10) if next_page==top1_likely_page else np.random.exponential(1)\n",
    "    load_time2=np.random.exponential(1/10) if next_page in top2_likely_page else np.random.exponential(1)\n",
    "    experiment_1.append(load_time1)\n",
    "    experiment_2.append(load_time2)"
   ]
  },
  {
   "cell_type": "code",
   "execution_count": 236,
   "id": "d3adcdd2",
   "metadata": {
    "deletable": false,
    "lx_assignment_number": "vB",
    "lx_assignment_type": "EXAM",
    "lx_assignment_type2print": "Exam",
    "lx_problem_cell_type": "PROBLEM",
    "lx_problem_number": "2",
    "lx_problem_points": "14"
   },
   "outputs": [],
   "source": [
    "# Part 2: 4 points\n",
    "\n",
    "# Simulate the website load times for the next page of 10000 users that are currently on page 1 (recall indexing starts at 0) when we only load the most likely page.\n",
    "# Store the simulated page load times in the variable problem2_page_load_times_top below\n",
    "problem2_page_load_times_top = np.array(experiment_1) # A numpy array of shape (10000,)\n",
    "\n",
    "# Repeat the simulation of load times for the next page of 10000 users that are currently on page 1 when we load the two most likely pages.\n",
    "# Store the simulated page load times in the variable problem2_page_load_times_two below\n",
    "problem2_page_load_times_two = np.array(experiment_2) # A numpy array of shape (10000,)\n"
   ]
  },
  {
   "cell_type": "code",
   "execution_count": 237,
   "id": "0b5eccd1",
   "metadata": {
    "deletable": false,
    "lx_assignment_number": "vB",
    "lx_assignment_type": "EXAM",
    "lx_assignment_type2print": "Exam",
    "lx_problem_cell_type": "PROBLEM",
    "lx_problem_number": "2",
    "lx_problem_points": "14"
   },
   "outputs": [],
   "source": [
    "# Part 3: 3 points\n",
    "\n",
    "# Calculate the true expected load time for loading a page without pre-loading the next page and store it in the variable below\n",
    "problem2_avg = 1.0 # A float\n",
    "\n",
    "# Is the average load time for loading a page without pre-loading the next page larger than the average load time for loading a page after pre-loading the next most likely page?\n",
    "problem2_comparison = problem2_page_load_times_top.mean()<1 # True / False\n"
   ]
  },
  {
   "cell_type": "markdown",
   "id": "9f007420",
   "metadata": {
    "deletable": false,
    "lx_assignment_number": "vB",
    "lx_assignment_type": "EXAM",
    "lx_assignment_type2print": "Exam",
    "lx_problem_cell_type": "PROBLEM",
    "lx_problem_number": "2",
    "lx_problem_points": "14"
   },
   "source": [
    "\n",
    "## Free text answer\n",
    "\n",
    "Put the explanation for **part 3** of how you made the decision about `problem2_comparison` below this line in this **cell**. In order to enter edit mode you can doubleclick this cell or select it and press enter.\n",
    "\n",
    "\n",
    "\n",
    "**Explanation:** First of all, i calculate the theoratical load time without preloading by the expectation of a exponential \n",
    "distribution with lambda=1. So the average time could be 1 second regardless of the transitional probabilty. Then i prove \n",
    "that the average (empirical) load time from part 2 is indeed less than 1 second, which is around 0.8second. It is interpretable because we reduce the part,probably the main part since we preload the most likely next page, by preloading and the expectation time of visiting a preloaded page is 1/10. which is significantly less than 1 second. Therefore, the total empirical time reduces.\n"
   ]
  },
  {
   "cell_type": "code",
   "execution_count": 238,
   "id": "9860254f",
   "metadata": {},
   "outputs": [
    {
     "data": {
      "text/plain": [
       "array([0.11424942, 0.11911986, 0.11121957, 0.10407199, 0.06201351,\n",
       "       0.07895283, 0.08515656, 0.08093993, 0.1371702 , 0.10710613])"
      ]
     },
     "execution_count": 238,
     "metadata": {},
     "output_type": "execute_result"
    }
   ],
   "source": [
    "# we use egien value to compute stationary distribution\n",
    "\n",
    "w, v = eig(problem2_transition_matrix, left=True, right=False)\n",
    "stationary = np.real(v[:, np.isclose(w, 1)])\n",
    "stationary = stationary / stationary.sum()\n",
    "stationary.ravel()"
   ]
  },
  {
   "cell_type": "code",
   "execution_count": 239,
   "id": "c6e91fee",
   "metadata": {},
   "outputs": [],
   "source": [
    "#we select the most possible page people will visit as the proloading page again.\n",
    "top_rank_index= np.argsort(stationary.ravel())[::-1][0]"
   ]
  },
  {
   "cell_type": "code",
   "execution_count": 240,
   "id": "bc431cf4",
   "metadata": {},
   "outputs": [],
   "source": [
    "# to calculate the expectation f waiting time\n",
    "avg_time=0\n",
    "for index,prob in enumerate(stationary.ravel()):\n",
    "    avg_time+= prob*1 if index!=top_rank_index else prob/10"
   ]
  },
  {
   "cell_type": "code",
   "execution_count": 241,
   "id": "bbfec65d",
   "metadata": {
    "deletable": false,
    "lx_assignment_number": "vB",
    "lx_assignment_type": "EXAM",
    "lx_assignment_type2print": "Exam",
    "lx_problem_cell_type": "PROBLEM",
    "lx_problem_number": "2",
    "lx_problem_points": "14"
   },
   "outputs": [],
   "source": [
    "# Part 4: 4 points\n",
    "\n",
    "# Begin by calculating the stationary distribution of the Markov chain and store it in the variable below\n",
    "# WARNING: Since the transition matrix is not symmetric, numpy might make the output of the eigenvectors complex, you can use np.real() to get the real part of the eigenvectors\n",
    "# Store the stationary distribution in the variable below called problem2_stationary_distribution\n",
    "problem2_stationary_distribution = stationary.ravel() # A numpy array of shape (problem2_n_states,)\n",
    "\n",
    "# Now use the above stationary distribution to calculate the average load time for loading a page after pre-loading the next most likely page according to the stationary distribution\n",
    "# Store the average load time in the variable below\n",
    "problem2_avg_stationary = avg_time # A float"
   ]
  },
  {
   "cell_type": "markdown",
   "id": "08beccb8",
   "metadata": {
    "deletable": false,
    "lx_assignment_number": "vB",
    "lx_assignment_type": "EXAM",
    "lx_assignment_type2print": "Exam",
    "lx_problem_cell_type": "PROBLEM",
    "lx_problem_number": "3",
    "lx_problem_points": "12"
   },
   "source": [
    "---\n",
    "## Exam vB, PROBLEM 3\n",
    "Maximum Points = 12"
   ]
  },
  {
   "cell_type": "markdown",
   "id": "21deee81",
   "metadata": {
    "deletable": false,
    "lx_assignment_number": "vB",
    "lx_assignment_type": "EXAM",
    "lx_assignment_type2print": "Exam",
    "lx_problem_cell_type": "PROBLEM",
    "lx_problem_number": "3",
    "lx_problem_points": "12"
   },
   "source": [
    "\n",
    "In this problem we are interested in fraud detection in an e-commerce system. In this problem we are given the outputs of a classifier that predicts the probabilities of fraud, your goal is to explore the threshold choice as in individual assignment 4. The costs associated with the predictions are:\n",
    "\n",
    "* **True Positive (TP)**: Detecting fraud and blocking the transaction costs the company 100 (manual review etc.)\n",
    "* **True Negative (TN)**: Allowing a legitimate transaction has no cost.\n",
    "* **False Positive (FP)**: Incorrectly classifying a legitimate transaction as fraudulent costs 120 (customer dissatisfaction plus operational expenses for reversing the decision).\n",
    "* **False Negative (FN)**: Missing a fraudulent transaction costs the company 600 (e.g., fraud loss plus potential reputational damage or penalties).\n",
    "\n",
    "**The code cells contain more detailed instructions, THE FIRST CODE CELL INITIALIZES YOUR VARIABLES**\n",
    "\n",
    "1. [3p] Complete filling the function `cost` to compute the average cost of a prediction model under a certain prediction threshold. Plot the cost as a function of the threshold (using the validation data provided in the first code cell of this problem), between 0 and 1 with 0.01 increments.\n",
    "2. [2.5p] Find the threshold that minimizes the cost and calculate the cost at that threshold on the validation data. Also calculate the precision and recall at the optimal threshold on the validation data on class 1 and 0.\n",
    "3. [2.5p] Repeat step 2, but this time find the best threshold to minimize the $0-1$ loss. Calculate the difference in cost between the threshold found in part 2 with the one just found in part 3.\n",
    "3. [4p] Provide a confidence interval around the optimal cost (with $95\\%$ confidence) applied to the test data and explain all the assumption you made."
   ]
  },
  {
   "cell_type": "code",
   "execution_count": 242,
   "id": "3f1aadd3",
   "metadata": {
    "deletable": false,
    "lx_assignment_number": "vB",
    "lx_assignment_type": "EXAM",
    "lx_assignment_type2print": "Exam",
    "lx_problem_cell_type": "PROBLEM",
    "lx_problem_number": "3",
    "lx_problem_points": "12"
   },
   "outputs": [],
   "source": [
    "\n",
    "# RUN THIS CELL TO GET THE DATA\n",
    "\n",
    "# We start by loading the data\n",
    "\n",
    "import pandas as pd\n",
    "\n",
    "PROBLEM3_DF = pd.read_csv('data/fraud.csv')\n",
    "Y = PROBLEM3_DF['Class'].values\n",
    "X = PROBLEM3_DF[['V%d' % i for i in range(1,5)]+['Amount']].values\n",
    "\n",
    "# We will split the data into training, testing and validation sets\n",
    "from Utils import train_test_validation\n",
    "PROBLEM3_X_train, PROBLEM3_X_test, PROBLEM3_X_val, PROBLEM3_y_train, PROBLEM3_y_test, PROBLEM3_y_val = train_test_validation(X,Y,shuffle=True,random_state=1)\n",
    "\n",
    "# From this we will train a logistic regression model\n",
    "from sklearn.linear_model import LogisticRegression\n",
    "lr = LogisticRegression()\n",
    "lr.fit(PROBLEM3_X_train,PROBLEM3_y_train)\n",
    "\n",
    "# THE FOLLOWING CODE WILL PRODUCE THE ARRAYS YOU NEED FOR THE PROBLEM\n",
    "\n",
    "PROBLEM3_y_pred_proba_val = lr.predict_proba(PROBLEM3_X_val)[:,1]\n",
    "PROBLEM3_y_true_val = PROBLEM3_y_val\n",
    "\n",
    "PROBLEM3_y_pred_proba_test = lr.predict_proba(PROBLEM3_X_test)[:,1]\n",
    "PROBLEM3_y_true_test = PROBLEM3_y_test\n"
   ]
  },
  {
   "cell_type": "code",
   "execution_count": 243,
   "id": "c588e528",
   "metadata": {
    "deletable": false,
    "lx_assignment_number": "vB",
    "lx_assignment_type": "EXAM",
    "lx_assignment_type2print": "Exam",
    "lx_problem_cell_type": "PROBLEM",
    "lx_problem_number": "3",
    "lx_problem_points": "12"
   },
   "outputs": [],
   "source": [
    "from sklearn.metrics import confusion_matrix\n",
    "# Part 1: 3 points\n",
    "# Implement the following function that calculates the cost of a binary classifier according to\n",
    "# the specification in the problem statement\n",
    "# See the comments inside the function for details of the parameters\n",
    "def cost(y_true,y_predict_proba,threshold):\n",
    "    # y_true is a numpy array of shape (n_samples,) with binary labels\n",
    "    # y_predict_proba is a numpy array of shape (n_samples,) with predicted probabilities\n",
    "    # threshold is a float between 0 and 1\n",
    "\n",
    "    # When returning the cost, you should return the average cost per sample\n",
    "    # thus it should be a value\n",
    "    y_pred=[1 if i>=threshold else 0 for i in y_predict_proba ]\n",
    "    confusion_mat=confusion_matrix(y_true,y_pred)\n",
    "    #illustrated by cost rules\n",
    "    cost=100*confusion_mat[1][1]+600*confusion_mat[1][0]+120*confusion_mat[0][1]\n",
    "    cost/= len(y_true)\n",
    "    \n",
    "\n",
    "    return cost # A float\n",
    "\n",
    "\n",
    "# Provide the code below to plot the cost as a function of the threshold\n",
    "# using the validation data, specifically the arrays PROBLEM3_y_true_val and PROBLEM3_y_pred_proba_val.\n",
    "# The plot should be between 0 and 1 with 0.01 increments\n",
    "# The y-axis should be the cost and the x-axis should be the threshold\n",
    "\n"
   ]
  },
  {
   "cell_type": "code",
   "execution_count": 244,
   "id": "a5dbc277",
   "metadata": {},
   "outputs": [
    {
     "data": {
      "image/png": "[encoded data removed]",
      "text/plain": [
       "<Figure size 800x600 with 1 Axes>"
      ]
     },
     "metadata": {},
     "output_type": "display_data"
    }
   ],
   "source": [
    "import matplotlib.pyplot as plt\n",
    "threshold = np.linspace(0, 1, 100)\n",
    "c = np.array([cost(PROBLEM3_y_true_val,PROBLEM3_y_pred_proba_val,ts) for ts in threshold])\n",
    "\n",
    "plt.figure(figsize=(8, 6))\n",
    "plt.plot(threshold, c, 'b-', label='threshold-cost', linewidth=2)\n",
    "plt.title(\"threshold-cost in [0,1]\")\n",
    "plt.xlabel(\"threshold\")\n",
    "plt.ylabel(\"cost\")\n",
    "plt.legend()\n",
    "plt.show()"
   ]
  },
  {
   "cell_type": "code",
   "execution_count": 245,
   "id": "8c5bfa84",
   "metadata": {},
   "outputs": [],
   "source": [
    "optimal_threshold = 0\n",
    "cost_at_optimal_threshold = float('inf') \n",
    "\n",
    "thresholds = np.arange(0.0, 1.0, 0.01)\n",
    "\n",
    "#we try to use a TA algo to find the optimal in 0,01 step\n",
    "for threshold in thresholds:\n",
    "    current_cost =cost(PROBLEM3_y_true_val,PROBLEM3_y_pred_proba_val,threshold)\n",
    "    \n",
    "    \n",
    "    if current_cost < cost_at_optimal_threshold:\n",
    "        cost_at_optimal_threshold = current_cost\n",
    "        optimal_threshold = threshold"
   ]
  },
  {
   "cell_type": "code",
   "execution_count": 246,
   "id": "3987334e",
   "metadata": {},
   "outputs": [],
   "source": [
    "#try to predict with the optimal threshold we got\n",
    "y_pred_opy_ts=np.array([1 if i>=optimal_threshold else 0 for i in PROBLEM3_y_pred_proba_val])"
   ]
  },
  {
   "cell_type": "code",
   "execution_count": 247,
   "id": "8646261f",
   "metadata": {},
   "outputs": [],
   "source": [
    "# try to get precisio and recall for each lael\n",
    "from sklearn.metrics import precision_score, recall_score\n",
    "precision_0 = precision_score(PROBLEM3_y_true_val, y_pred_opy_ts, pos_label=0)\n",
    "precision_1 = precision_score(PROBLEM3_y_true_val, y_pred_opy_ts, pos_label=1)\n",
    "recall_0 = recall_score(PROBLEM3_y_true_val, y_pred_opy_ts, pos_label=0)\n",
    "recall_1 = recall_score(PROBLEM3_y_true_val, y_pred_opy_ts, pos_label=1)"
   ]
  },
  {
   "cell_type": "code",
   "execution_count": 248,
   "id": "25387d22",
   "metadata": {
    "deletable": false,
    "lx_assignment_number": "vB",
    "lx_assignment_type": "EXAM",
    "lx_assignment_type2print": "Exam",
    "lx_problem_cell_type": "PROBLEM",
    "lx_problem_number": "3",
    "lx_problem_points": "12"
   },
   "outputs": [],
   "source": [
    "# Part 2: 2.5 points\n",
    "\n",
    "# Use the cost function you just implemented above to find the threshold that minimizes the cost\n",
    "# using the validation data, specifically the arrays PROBLEM3_y_true_val and PROBLEM3_y_pred_proba_val.\n",
    "# Store the threshold in the variable below\n",
    "problem3_threshold = optimal_threshold # A float between 0 and 1\n",
    "#literally, it is 0.2\n",
    "\n",
    "# Now calculate the cost of the classifier using the validation data and the threshold you just found\n",
    "# using the validation data, specifically the arrays PROBLEM3_y_true_val and PROBLEM3_y_pred_proba_val.\n",
    "# Store the cost in the variable below\n",
    "problem3_cost_val = cost_at_optimal_threshold # A float\n",
    "#literaly, it is 45960.\n",
    "\n",
    "\n",
    "# Using the threshold you just found, calculate the predicted labels of the classifier on the validation data\n",
    "# put the predicted labels in the variable below\n",
    "problem3_y_pred_val = y_pred_opy_ts # A numpy array of shape (n_samples,) with values 0 or 1\n",
    "\n",
    "# Calculate the precision and recall of the classifier of class 1 using the threshold you just found\n",
    "# using the validation data, specifically the arrays PROBLEM3_y_true_val and PROBLEM3_y_pred_proba_val.\n",
    "\n",
    "problem3_precision_1 = precision_1 # A float between 0 and 1\n",
    "problem3_recall_1 = recall_1 # A float between 0 and 1\n",
    "\n",
    "# Calculate the precision and recall of the classifier of class 0 using the threshold you just found\n",
    "# using the validation data, specifically the arrays PROBLEM3_y_true_val and PROBLEM3_y_pred_proba_val.\n",
    "\n",
    "problem3_precision_0 = precision_0 # A float between 0 and 1\n",
    "problem3_recall_0 = recall_0 # A float between 0 and 1\n"
   ]
  },
  {
   "cell_type": "code",
   "execution_count": 249,
   "id": "f601b5d2",
   "metadata": {},
   "outputs": [],
   "source": [
    "def cost_0_1(y_true,y_predict_proba,threshold):\n",
    "    # y_true is a numpy array of shape (n_samples,) with binary labels\n",
    "    # y_predict_proba is a numpy array of shape (n_samples,) with predicted probabilities\n",
    "    # threshold is a float between 0 and 1\n",
    "\n",
    "    # When returning the cost, you should return the average cost per sample\n",
    "    # thus it should be a value\n",
    "    y_pred=[1 if i>=threshold else 0 for i in y_predict_proba ]\n",
    "    confusion_mat=confusion_matrix(y_true,y_pred)\n",
    "    \n",
    "    #0-1loss:only return 1 when true label and prediction do not match\n",
    "    cost=confusion_mat[1][0]+confusion_mat[0][1]\n",
    "    \n",
    "\n",
    "    return cost # A float"
   ]
  },
  {
   "cell_type": "code",
   "execution_count": 250,
   "id": "6eef6b56",
   "metadata": {},
   "outputs": [
    {
     "data": {
      "image/png": "[encoded data removed]",
      "text/plain": [
       "<Figure size 800x600 with 1 Axes>"
      ]
     },
     "metadata": {},
     "output_type": "display_data"
    }
   ],
   "source": [
    "thr=np.linspace(0, 1, 100)\n",
    "c_new = np.array([cost_0_1(PROBLEM3_y_true_val,PROBLEM3_y_pred_proba_val,ts) for ts in thr])\n",
    "\n",
    "plt.figure(figsize=(8, 6))\n",
    "plt.plot(thr, c_new, 'b-', label='threshold-cost_0-1 loss', linewidth=2)\n",
    "plt.title(\"threshold-cost in [0,1]\")\n",
    "plt.xlabel(\"threshold\")\n",
    "plt.ylabel(\"cost\")\n",
    "plt.legend()\n",
    "plt.show()"
   ]
  },
  {
   "cell_type": "code",
   "execution_count": 251,
   "id": "4e90707e",
   "metadata": {},
   "outputs": [],
   "source": [
    "optimal_threshold_new = 0\n",
    "cost_at_optimal_threshold_new = float('inf') \n",
    "\n",
    "thresholds = np.arange(0.0, 1.0, 0.01)\n",
    "# still TA algo\n",
    "for threshold in thresholds:\n",
    "    current_cost =cost_0_1(PROBLEM3_y_true_val,PROBLEM3_y_pred_proba_val,threshold)\n",
    "    \n",
    "    \n",
    "    if current_cost < cost_at_optimal_threshold_new:\n",
    "        cost_at_optimal_threshold_new = current_cost\n",
    "        optimal_threshold_new = threshold"
   ]
  },
  {
   "cell_type": "code",
   "execution_count": 252,
   "id": "0362a128",
   "metadata": {
    "deletable": false,
    "lx_assignment_number": "vB",
    "lx_assignment_type": "EXAM",
    "lx_assignment_type2print": "Exam",
    "lx_problem_cell_type": "PROBLEM",
    "lx_problem_number": "3",
    "lx_problem_points": "12"
   },
   "outputs": [],
   "source": [
    "# Part 3: 2.5 points\n",
    "\n",
    "# Find the threshold that minimizes the $0-1$ loss using the validation data\n",
    "# specifically the arrays PROBLEM3_y_true_val and PROBLEM3_y_pred_proba_val.\n",
    "# Store the threshold in the variable below\n",
    "\n",
    "problem3_threshold_01 = optimal_threshold_new # A float between 0 and 1\n",
    "#literally, it is 0,69\n",
    "# Now calculate the difference in cost (using the cost function you implemented in step 1) between the optimal one chosen in part 2 and the one chosen in part 3 by taking the cost with the threshold found in part 3 and subtracting the cost with the threshold found in part 2 to get a positive value\n",
    "problem3_cost_difference = problem3_cost_val-cost_at_optimal_threshold_new # A float\n"
   ]
  },
  {
   "cell_type": "code",
   "execution_count": 256,
   "id": "eb3d73e4",
   "metadata": {
    "deletable": false,
    "lx_assignment_number": "vB",
    "lx_assignment_type": "EXAM",
    "lx_assignment_type2print": "Exam",
    "lx_problem_cell_type": "PROBLEM",
    "lx_problem_number": "3",
    "lx_problem_points": "12"
   },
   "outputs": [],
   "source": [
    "# Part 4: 4 points\n",
    "\n",
    "# Using the threshold problem3_threshold use Hoeffdings inequality to provide a confidence interval \n",
    "# for the cost of the classifier with 95 % confidence using the test data.\n",
    "# Specifically the arrays PROBLEM3_y_true_test and PROBLEM3_y_pred_proba_test.\n",
    "# Store the lower and upper bounds of the confidence interval in the variables below\n",
    "#Use Hoeffding inequality to give confidential interval.\n",
    "#Here it can be boiled down to Bernoulli condition and thus simplified\n",
    "cost_0_1_test=cost_0_1(PROBLEM3_y_true_test,PROBLEM3_y_pred_proba_test,optimal_threshold_new)\n",
    "alpha=0.05\n",
    "n=PROBLEM3_y_true_test.shape[0]\n",
    "epsilon0=np.sqrt((1/(2*n))*np.log(2/alpha))\n",
    "\n",
    "problem3_lower_bound_per = cost_0_1_test-epsilon0*n # A float\n",
    "problem3_upper_bound_per = cost_0_1_test+epsilon0*n # A float\n",
    "\n",
    "# False Nagative cost 600\n",
    "problem3_lower_bound = problem3_lower_bound_per * 600\n",
    "problem3_upper_bound = problem3_upper_bound_per * 600"
   ]
  },
  {
   "cell_type": "markdown",
   "id": "67721024",
   "metadata": {
    "deletable": false,
    "lx_assignment_number": "vB",
    "lx_assignment_type": "EXAM",
    "lx_assignment_type2print": "Exam",
    "lx_problem_cell_type": "PROBLEM",
    "lx_problem_number": "3",
    "lx_problem_points": "12"
   },
   "source": [
    "\n",
    "## Free text answer\n",
    "\n",
    "Put your explanation for part 4 below this line in this **cell**. Doubleclick to enter edit mode as before.\n",
    "\n",
    "\n",
    "\n",
    "**explanation:** Supposed that we have a random variables $cost_i=loss_i=\\mathbb{1}\\{y_{pred}=y_{true}\\}$ for each prediction and true value to represent each 'little' cost. So $cost=\\sum cost_i$ Then, $cost_i$s conform Bernoulli distribution and are bounded between 0 and 1. Then we use Hoeffding inequality:\n",
    "Let (Ω, F, P) be a probability triple and let X1, . . . , Xn IID∼ F R-valued RVs such that P\n",
    "(Xi ∈ [a, b]) = 1, then for any ϵ > 0 we get for $\\bar{X_n}$:  $P( \\bar{X_n} − E [\\bar{X_n}] ≥ ϵ) ≤ 2 \\exp{-2nϵ^2/(b−a)^2}$\n",
    "\n",
    "So we have $P( |\\bar{cost_n} − E [\\bar{cost_n}]| ≥ ϵ) =P( |\\sum{cost_i} − n*E [\\bar{cost_n}]| ≥ nϵ)=P( |cost − E [cost]| ≥ nϵ)≤ 2 \\exp{-2nϵ^2/(b−a)^2}=\\alpha$, where b=max $cost_i$=1,a=min $cost_i$=0\n",
    "\n",
    "Therefore, $\\epsilon=\\frac{1}{\\sqrt{n}}\\sqrt{\\frac{1}{2}ln(\\frac{2}{\\alpha})}$\n",
    "where n is the number of data we have.\n",
    "\n",
    "Finally,do not foget to multyply n by \\epsilon\n",
    "\n",
    "Above are consistent with Lemma 3.8"
   ]
  },
  {
   "cell_type": "code",
   "execution_count": null,
   "id": "b6fa032a",
   "metadata": {},
   "outputs": [],
   "source": []
  }
 ],
 "metadata": {
  "kernelspec": {
   "display_name": "Python 3 (ipykernel)",
   "language": "python",
   "name": "python3"
  },
  "language_info": {
   "codemirror_mode": {
    "name": "ipython",
    "version": 3
   },
   "file_extension": ".py",
   "mimetype": "text/x-python",
   "name": "python",
   "nbconvert_exporter": "python",
   "pygments_lexer": "ipython3",
   "version": "3.12.5"
  },
  "lx_assignment_number": "vB",
  "lx_course_instance": "2024",
  "lx_course_name": "Introduction to Data Science",
  "lx_course_number": "1MS041"
 },
 "nbformat": 4,
 "nbformat_minor": 5
}
